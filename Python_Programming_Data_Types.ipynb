{
  "nbformat": 4,
  "nbformat_minor": 0,
  "metadata": {
    "colab": {
      "provenance": [],
      "collapsed_sections": [
        "Fti179OmKM7c",
        "UxdDFPQKz3NS",
        "-BkSbASJUdKQ",
        "a_8-Y8pFUfZ4",
        "zH4fP7JMUqPG",
        "A5_RAp55UkF6",
        "s547kw_RlMAo",
        "lgNykfkVlPAq",
        "-HTYwkHal6e7",
        "KyVOjrcMr4wI",
        "eib75N_EnVqp",
        "1x6Hvs-jrru7"
      ],
      "toc_visible": true,
      "include_colab_link": true
    },
    "kernelspec": {
      "name": "python3",
      "display_name": "Python 3"
    }
  },
  "cells": [
    {
      "cell_type": "markdown",
      "metadata": {
        "id": "view-in-github",
        "colab_type": "text"
      },
      "source": [
        "<a href=\"https://colab.research.google.com/github/Dennis-Kiarie/PythonKickstart/blob/main/Python_Programming_Data_Types.ipynb\" target=\"_parent\"><img src=\"https://colab.research.google.com/assets/colab-badge.svg\" alt=\"Open In Colab\"/></a>"
      ]
    },
    {
      "cell_type": "markdown",
      "metadata": {
        "id": "qWBvvuvk0Svi"
      },
      "source": [
        "<font color=\"green\">*To start working on this notebook, or any other notebook that we will use in the Moringa Data Science Course, we will need to save our own copy of it. We can do this by clicking File > Save a Copy in Drive. We will then be able to make edits to our own copy of this notebook.*</font>\n",
        "\n"
      ]
    },
    {
      "cell_type": "markdown",
      "metadata": {
        "id": "g4atfIoY1BjY"
      },
      "source": [
        "# Python Programming: Data Types"
      ]
    },
    {
      "cell_type": "markdown",
      "metadata": {
        "id": "Fti179OmKM7c"
      },
      "source": [
        "## 1.1 Introduction"
      ]
    },
    {
      "cell_type": "markdown",
      "metadata": {
        "id": "_Kl5unZ9KPIY"
      },
      "source": [
        "There are many different data types in Python. These data types can also be referred to as types of objects. We can start with the most common object types: strings, integers and floats. Anytime you write words (text) in Python, you're using character strings (strings for short). The most common numbers, on the other hand, are integers (e.g. -1, 0, 100) and floats, which represent real numbers (e.g. 3.14, -42.0)."
      ]
    },
    {
      "cell_type": "markdown",
      "metadata": {
        "id": "F8zU7otKNuU3"
      },
      "source": [
        "The following are examples of values with different data types;"
      ]
    },
    {
      "cell_type": "code",
      "metadata": {
        "id": "aLU0ZCM4KKMZ",
        "outputId": "5506d94b-0e88-4514-d980-c5ebc89ca537",
        "colab": {
          "base_uri": "https://localhost:8080/"
        }
      },
      "source": [
        "# Example 1\n",
        "# Integer Data Type\n",
        "#\n",
        "55"
      ],
      "execution_count": 1,
      "outputs": [
        {
          "output_type": "execute_result",
          "data": {
            "text/plain": [
              "55"
            ]
          },
          "metadata": {},
          "execution_count": 1
        }
      ]
    },
    {
      "cell_type": "code",
      "metadata": {
        "id": "dm_ofqvwPQuP",
        "outputId": "e735eda0-8cbe-498b-a0df-0ff773735dda",
        "colab": {
          "base_uri": "https://localhost:8080/"
        }
      },
      "source": [
        "# Example 2\n",
        "# Float Data Type\n",
        "#\n",
        "3.142"
      ],
      "execution_count": 2,
      "outputs": [
        {
          "output_type": "execute_result",
          "data": {
            "text/plain": [
              "3.142"
            ]
          },
          "metadata": {},
          "execution_count": 2
        }
      ]
    },
    {
      "cell_type": "code",
      "metadata": {
        "id": "Vjla31TDQg4R",
        "outputId": "94fdec09-f9a7-42c3-ff96-43721e15c54d",
        "colab": {
          "base_uri": "https://localhost:8080/",
          "height": 35
        }
      },
      "source": [
        "# Example 3\n",
        "# String Data Type\n",
        "#\n",
        "\"Moringa Data Science\""
      ],
      "execution_count": 3,
      "outputs": [
        {
          "output_type": "execute_result",
          "data": {
            "text/plain": [
              "'Moringa Data Science'"
            ],
            "application/vnd.google.colaboratory.intrinsic+json": {
              "type": "string"
            }
          },
          "metadata": {},
          "execution_count": 3
        }
      ]
    },
    {
      "cell_type": "markdown",
      "metadata": {
        "id": "uqmC6vfr24_f"
      },
      "source": [
        "### <font color=\"green\">1.1 Challenges </font>\n"
      ]
    },
    {
      "cell_type": "code",
      "metadata": {
        "id": "IpyXzkyYRnJ1",
        "outputId": "db0dde5d-7239-458b-a7bf-89215df58c35",
        "colab": {
          "base_uri": "https://localhost:8080/"
        }
      },
      "source": [
        "# Challenge 1\n",
        "# Write a value with an Integer data type\n",
        "#\n",
        "355"
      ],
      "execution_count": 6,
      "outputs": [
        {
          "output_type": "execute_result",
          "data": {
            "text/plain": [
              "355"
            ]
          },
          "metadata": {},
          "execution_count": 6
        }
      ]
    },
    {
      "cell_type": "code",
      "metadata": {
        "id": "fTkeiMm6Rrhc",
        "outputId": "a7f73d48-5c35-443b-cf3c-a99f76304376",
        "colab": {
          "base_uri": "https://localhost:8080/"
        }
      },
      "source": [
        "# Challenge 2\n",
        "# Write any value with a Float Data Type\n",
        "#\n",
        "5.7"
      ],
      "execution_count": 7,
      "outputs": [
        {
          "output_type": "execute_result",
          "data": {
            "text/plain": [
              "5.7"
            ]
          },
          "metadata": {},
          "execution_count": 7
        }
      ]
    },
    {
      "cell_type": "code",
      "metadata": {
        "id": "-yxfZtWqRuoA",
        "outputId": "e080d778-3b21-48de-c8df-27d4f8fd2321",
        "colab": {
          "base_uri": "https://localhost:8080/",
          "height": 35
        }
      },
      "source": [
        "# Challenge 3\n",
        "# Write any value with a String Data Type\n",
        "#\n",
        "\"Data Scientist\""
      ],
      "execution_count": 8,
      "outputs": [
        {
          "output_type": "execute_result",
          "data": {
            "text/plain": [
              "'Data Scientist'"
            ],
            "application/vnd.google.colaboratory.intrinsic+json": {
              "type": "string"
            }
          },
          "metadata": {},
          "execution_count": 8
        }
      ]
    },
    {
      "cell_type": "markdown",
      "metadata": {
        "id": "UxdDFPQKz3NS"
      },
      "source": [
        "## 1.2 Finding Out Types"
      ]
    },
    {
      "cell_type": "markdown",
      "metadata": {
        "id": "sgBUpOEqRe8d"
      },
      "source": [
        "We can get Python to tell us the type of an expression by using the built-in type() function. We'll notice that Python refers to integers as int, floats as float, and character strings as str."
      ]
    },
    {
      "cell_type": "code",
      "metadata": {
        "id": "GQZq_V9NS09i",
        "outputId": "cb0fa2e0-55fb-42ec-ddd3-160b6166f051",
        "colab": {
          "base_uri": "https://localhost:8080/"
        }
      },
      "source": [
        "# Example 1\n",
        "# Finding out the type of 55\n",
        "#\n",
        "type(55)"
      ],
      "execution_count": 9,
      "outputs": [
        {
          "output_type": "execute_result",
          "data": {
            "text/plain": [
              "int"
            ]
          },
          "metadata": {},
          "execution_count": 9
        }
      ]
    },
    {
      "cell_type": "code",
      "metadata": {
        "id": "mKoaAXlNS8pt",
        "outputId": "85e862c6-b0f5-4e46-a1a0-98c176aa4d2b",
        "colab": {
          "base_uri": "https://localhost:8080/"
        }
      },
      "source": [
        "# Example 2\n",
        "# Finding out the type of 3.142\n",
        "#\n",
        "type(3.142)"
      ],
      "execution_count": 10,
      "outputs": [
        {
          "output_type": "execute_result",
          "data": {
            "text/plain": [
              "float"
            ]
          },
          "metadata": {},
          "execution_count": 10
        }
      ]
    },
    {
      "cell_type": "code",
      "metadata": {
        "id": "55FxpuwtS8So",
        "outputId": "752b2ee2-94b0-41dc-d11d-cb46cdfcb4f4",
        "colab": {
          "base_uri": "https://localhost:8080/"
        }
      },
      "source": [
        "# Example 3\n",
        "# Finding out the type of \"Moringa Data Science\"\n",
        "#\n",
        "type(\"Moringa Data Science\")"
      ],
      "execution_count": 11,
      "outputs": [
        {
          "output_type": "execute_result",
          "data": {
            "text/plain": [
              "str"
            ]
          },
          "metadata": {},
          "execution_count": 11
        }
      ]
    },
    {
      "cell_type": "markdown",
      "metadata": {
        "id": "gqLkQCti2_as"
      },
      "source": [
        "### <font color=\"green\">1.2 Challenges</font>"
      ]
    },
    {
      "cell_type": "code",
      "metadata": {
        "id": "9aeJPHk5RJW2",
        "outputId": "184fbfef-df54-4810-81a9-32cb7a5e6c4c",
        "colab": {
          "base_uri": "https://localhost:8080/"
        }
      },
      "source": [
        "# Challenge 4\n",
        "# Now lets find out the type of our value in Challenge #1\n",
        "#\n",
        "type(355)"
      ],
      "execution_count": 12,
      "outputs": [
        {
          "output_type": "execute_result",
          "data": {
            "text/plain": [
              "int"
            ]
          },
          "metadata": {},
          "execution_count": 12
        }
      ]
    },
    {
      "cell_type": "code",
      "metadata": {
        "id": "xpxRzyfHT_VC",
        "outputId": "26dfda6c-4dda-425e-d012-6cb3cf91cedf",
        "colab": {
          "base_uri": "https://localhost:8080/"
        }
      },
      "source": [
        "# Challenge 5\n",
        "# What about the type of our value in Challenge #2\n",
        "#\n",
        "type(\"Data scientist\")"
      ],
      "execution_count": 13,
      "outputs": [
        {
          "output_type": "execute_result",
          "data": {
            "text/plain": [
              "str"
            ]
          },
          "metadata": {},
          "execution_count": 13
        }
      ]
    },
    {
      "cell_type": "code",
      "metadata": {
        "id": "JSTdIHXdUErB",
        "outputId": "fc62e922-893c-4077-a4b1-e1caccaab291",
        "colab": {
          "base_uri": "https://localhost:8080/"
        }
      },
      "source": [
        "# Challenge 6\n",
        "# What about the type of our value in Challenge #3\n",
        "#\n",
        "type(5.7)"
      ],
      "execution_count": 14,
      "outputs": [
        {
          "output_type": "execute_result",
          "data": {
            "text/plain": [
              "float"
            ]
          },
          "metadata": {},
          "execution_count": 14
        }
      ]
    },
    {
      "cell_type": "code",
      "metadata": {
        "id": "3A6nP_-XpcTA",
        "outputId": "29b389dd-a562-4a90-95a6-1e5fc226cee4",
        "colab": {
          "base_uri": "https://localhost:8080/"
        }
      },
      "source": [
        "# Challenge 7\n",
        "# What is the data type of the result of: 16 / 4?\n",
        "#\n",
        "type(16/4)"
      ],
      "execution_count": 23,
      "outputs": [
        {
          "output_type": "execute_result",
          "data": {
            "text/plain": [
              "float"
            ]
          },
          "metadata": {},
          "execution_count": 23
        }
      ]
    },
    {
      "cell_type": "code",
      "metadata": {
        "id": "_MC1ALIKpnyA",
        "outputId": "07315ef6-1dcf-4ebd-d445-3c4a071d692a",
        "colab": {
          "base_uri": "https://localhost:8080/"
        }
      },
      "source": [
        "# Challenge 8\n",
        "# What is the type of the result of: 6 // 2? (Note the double slash //.)\n",
        "#\n",
        "type(6//2)"
      ],
      "execution_count": 24,
      "outputs": [
        {
          "output_type": "execute_result",
          "data": {
            "text/plain": [
              "int"
            ]
          },
          "metadata": {},
          "execution_count": 24
        }
      ]
    },
    {
      "cell_type": "code",
      "metadata": {
        "id": "dDF33m3swR-Z",
        "outputId": "973e869e-435b-4aa0-8665-f8930b0b0969",
        "colab": {
          "base_uri": "https://localhost:8080/"
        }
      },
      "source": [
        "# Challenge 9\n",
        "# What do you think is the output of type(a)? Run this cell and check\n",
        "#\n",
        "a = \"Learning Data Science is Easy\"\n",
        "a = 3\n",
        "type(a)"
      ],
      "execution_count": 25,
      "outputs": [
        {
          "output_type": "execute_result",
          "data": {
            "text/plain": [
              "int"
            ]
          },
          "metadata": {},
          "execution_count": 25
        }
      ]
    },
    {
      "cell_type": "code",
      "metadata": {
        "id": "2GaZ0Eggw7Iu",
        "outputId": "e9c11fbf-9e2c-4ff6-d337-ea90d9db969c",
        "colab": {
          "base_uri": "https://localhost:8080/"
        }
      },
      "source": [
        "# Challenge 10\n",
        "# What do you think is the output of this cell?\n",
        "# Think about it then run it.\n",
        "#\n",
        "type(3.2) == float"
      ],
      "execution_count": 26,
      "outputs": [
        {
          "output_type": "execute_result",
          "data": {
            "text/plain": [
              "True"
            ]
          },
          "metadata": {},
          "execution_count": 26
        }
      ]
    },
    {
      "cell_type": "markdown",
      "metadata": {
        "id": "-BkSbASJUdKQ"
      },
      "source": [
        "## 1.3  Integers"
      ]
    },
    {
      "cell_type": "markdown",
      "metadata": {
        "id": "JyxHhUBWUrbg"
      },
      "source": [
        " Integers can be negative or positive numbers:"
      ]
    },
    {
      "cell_type": "code",
      "metadata": {
        "id": "BMEZZkF-Gv4s",
        "outputId": "321ecf17-9e4a-4acc-e1a6-74344a182190",
        "colab": {
          "base_uri": "https://localhost:8080/"
        }
      },
      "source": [
        "# Example 1\n",
        "# Again, we can verify whether this is the case by using the type() function\n",
        "#\n",
        "type(-300)"
      ],
      "execution_count": 27,
      "outputs": [
        {
          "output_type": "execute_result",
          "data": {
            "text/plain": [
              "int"
            ]
          },
          "metadata": {},
          "execution_count": 27
        }
      ]
    },
    {
      "cell_type": "markdown",
      "metadata": {
        "id": "Z6xx7moLqa2B"
      },
      "source": [
        "### <font color = \"green\">1.3 Challenges</font>"
      ]
    },
    {
      "cell_type": "code",
      "metadata": {
        "id": "dcOMS1Ywn2MG",
        "outputId": "2a9e6ad8-7fd4-40dd-dfc9-0a6142f98079",
        "colab": {
          "base_uri": "https://localhost:8080/"
        }
      },
      "source": [
        "# Challenge 1\n",
        "# What happens when we verify a positive number i.e 43\n",
        "#\n",
        "type(43)"
      ],
      "execution_count": 28,
      "outputs": [
        {
          "output_type": "execute_result",
          "data": {
            "text/plain": [
              "int"
            ]
          },
          "metadata": {},
          "execution_count": 28
        }
      ]
    },
    {
      "cell_type": "code",
      "metadata": {
        "id": "H0Ws1Ez1HqoT",
        "outputId": "b56355f9-0d6d-4f2d-d698-9b1ee8cfb340",
        "colab": {
          "base_uri": "https://localhost:8080/"
        }
      },
      "source": [
        "# Challenge 2\n",
        "# Let's verify zero below\n",
        "#\n",
        "type(0)"
      ],
      "execution_count": 29,
      "outputs": [
        {
          "output_type": "execute_result",
          "data": {
            "text/plain": [
              "int"
            ]
          },
          "metadata": {},
          "execution_count": 29
        }
      ]
    },
    {
      "cell_type": "markdown",
      "metadata": {
        "id": "a_8-Y8pFUfZ4"
      },
      "source": [
        "## 1.4 Floats"
      ]
    },
    {
      "cell_type": "markdown",
      "metadata": {
        "id": "KK5QqqUFIorK"
      },
      "source": [
        "Floats represent real numbers; they also include \"numbers with decimals\". We can now test some examples with the type() function"
      ]
    },
    {
      "cell_type": "code",
      "metadata": {
        "id": "qLrhOz6eIpZ7",
        "outputId": "dbf73547-da22-4f84-c47e-6df541fe5b96",
        "colab": {
          "base_uri": "https://localhost:8080/"
        }
      },
      "source": [
        "# Example 1\n",
        "# Let's verify 1.0\n",
        "#\n",
        "type(1.0)"
      ],
      "execution_count": 30,
      "outputs": [
        {
          "output_type": "execute_result",
          "data": {
            "text/plain": [
              "float"
            ]
          },
          "metadata": {},
          "execution_count": 30
        }
      ]
    },
    {
      "cell_type": "markdown",
      "metadata": {
        "id": "Uc1Dx2gDqlQb"
      },
      "source": [
        "###<font color=\"green\"> 1.4 Challenges</font>"
      ]
    },
    {
      "cell_type": "code",
      "metadata": {
        "id": "AkXuR5UXoa4u",
        "outputId": "8ac28e71-0b61-4369-ce95-2d99024e3b8e",
        "colab": {
          "base_uri": "https://localhost:8080/"
        }
      },
      "source": [
        "# Challenge 1\n",
        "# Let's now verify 0.7\n",
        "#\n",
        "type(0.7)"
      ],
      "execution_count": 31,
      "outputs": [
        {
          "output_type": "execute_result",
          "data": {
            "text/plain": [
              "float"
            ]
          },
          "metadata": {},
          "execution_count": 31
        }
      ]
    },
    {
      "cell_type": "code",
      "metadata": {
        "id": "W-dT0-3WWx7z",
        "outputId": "18e75c08-e817-433f-b5ed-007c7200a78a",
        "colab": {
          "base_uri": "https://localhost:8080/"
        }
      },
      "source": [
        "# Challenge 2\n",
        "# Verifying the type of 0.53\n",
        "#\n",
        "type(0.53)"
      ],
      "execution_count": 32,
      "outputs": [
        {
          "output_type": "execute_result",
          "data": {
            "text/plain": [
              "float"
            ]
          },
          "metadata": {},
          "execution_count": 32
        }
      ]
    },
    {
      "cell_type": "markdown",
      "metadata": {
        "id": "zH4fP7JMUqPG"
      },
      "source": [
        "## 1.5 Boolean"
      ]
    },
    {
      "cell_type": "markdown",
      "metadata": {
        "id": "Bfvyjf_YmT-w"
      },
      "source": [
        "Boolean is another important type in Python. An object of type Boolean can take on one of two values: True or False:\n",
        "\n"
      ]
    },
    {
      "cell_type": "code",
      "metadata": {
        "id": "pLiD-enCmSyO",
        "outputId": "c4ba2868-255f-400a-d385-a9019b443b0e",
        "colab": {
          "base_uri": "https://localhost:8080/"
        }
      },
      "source": [
        "# Example 1\n",
        "# Let's run this cell and see what happens\n",
        "#\n",
        "True"
      ],
      "execution_count": 33,
      "outputs": [
        {
          "output_type": "execute_result",
          "data": {
            "text/plain": [
              "True"
            ]
          },
          "metadata": {},
          "execution_count": 33
        }
      ]
    },
    {
      "cell_type": "code",
      "metadata": {
        "id": "irtYN0ZZmv5Z",
        "outputId": "88a6e974-cc4a-4360-c499-0baf3013d998",
        "colab": {
          "base_uri": "https://localhost:8080/"
        }
      },
      "source": [
        "# Example 2\n",
        "# Let's also run this cell and see what happens\n",
        "#\n",
        "False"
      ],
      "execution_count": 34,
      "outputs": [
        {
          "output_type": "execute_result",
          "data": {
            "text/plain": [
              "False"
            ]
          },
          "metadata": {},
          "execution_count": 34
        }
      ]
    },
    {
      "cell_type": "markdown",
      "metadata": {
        "id": "u3G52jpj2veu"
      },
      "source": [
        "### <font color=\"green\">1.5 Challenges</font>"
      ]
    },
    {
      "cell_type": "code",
      "metadata": {
        "id": "graRe9NCmioG",
        "outputId": "d89b184b-a1ce-4cdd-dd0f-6c728e9f0877",
        "colab": {
          "base_uri": "https://localhost:8080/"
        }
      },
      "source": [
        "# Challenge 1\n",
        "# What happens when we run 'true' in this cell\n",
        "#\n",
        "True"
      ],
      "execution_count": 36,
      "outputs": [
        {
          "output_type": "execute_result",
          "data": {
            "text/plain": [
              "True"
            ]
          },
          "metadata": {},
          "execution_count": 36
        }
      ]
    },
    {
      "cell_type": "code",
      "metadata": {
        "id": "MuyXiaUPmz9U",
        "outputId": "ec0babfc-a450-497f-bcfa-05e080eca417",
        "colab": {
          "base_uri": "https://localhost:8080/"
        }
      },
      "source": [
        "# Challenge 2\n",
        "# What about what happens when we run 'false' in this cell\n",
        "#\n",
        "False"
      ],
      "execution_count": 37,
      "outputs": [
        {
          "output_type": "execute_result",
          "data": {
            "text/plain": [
              "False"
            ]
          },
          "metadata": {},
          "execution_count": 37
        }
      ]
    },
    {
      "cell_type": "code",
      "metadata": {
        "id": "10qmsXWgm5Hk",
        "outputId": "8a722c54-9bb9-4dc6-806c-3c8e4eec0abc",
        "colab": {
          "base_uri": "https://localhost:8080/"
        }
      },
      "source": [
        "# Challenge 3\n",
        "# Let's also find out type of False in this cell\n",
        "#\n",
        "type(False)"
      ],
      "execution_count": 38,
      "outputs": [
        {
          "output_type": "execute_result",
          "data": {
            "text/plain": [
              "bool"
            ]
          },
          "metadata": {},
          "execution_count": 38
        }
      ]
    },
    {
      "cell_type": "markdown",
      "metadata": {
        "id": "A5_RAp55UkF6"
      },
      "source": [
        "## 1.6 Conversion of Types"
      ]
    },
    {
      "cell_type": "markdown",
      "metadata": {
        "id": "Ajd9s536Ul66"
      },
      "source": [
        "We can change the type of the object in Python; this is called typecasting. For example, we can convert an integer into a float (e.g. 2 to 2.0)."
      ]
    },
    {
      "cell_type": "code",
      "metadata": {
        "id": "yJCPR5BEXp3G",
        "outputId": "631fa89b-ecf6-448d-bdfe-366dba59188b",
        "colab": {
          "base_uri": "https://localhost:8080/"
        }
      },
      "source": [
        "# Example 1\n",
        "# Let's first verify that this is an integer by running this cell.\n",
        "#\n",
        "type(2)"
      ],
      "execution_count": 39,
      "outputs": [
        {
          "output_type": "execute_result",
          "data": {
            "text/plain": [
              "int"
            ]
          },
          "metadata": {},
          "execution_count": 39
        }
      ]
    },
    {
      "cell_type": "markdown",
      "metadata": {
        "id": "s547kw_RlMAo"
      },
      "source": [
        "### 1.6a. Converting integers to floats\n"
      ]
    },
    {
      "cell_type": "code",
      "metadata": {
        "id": "4mP_uTVYkoKn",
        "outputId": "919b807e-06bc-440e-c761-8e262e1aa244",
        "colab": {
          "base_uri": "https://localhost:8080/"
        }
      },
      "source": [
        "# Example 1\n",
        "# Let's now convert integer 2 to a float and check its type\n",
        "#\n",
        "type(float(2))"
      ],
      "execution_count": 40,
      "outputs": [
        {
          "output_type": "execute_result",
          "data": {
            "text/plain": [
              "float"
            ]
          },
          "metadata": {},
          "execution_count": 40
        }
      ]
    },
    {
      "cell_type": "markdown",
      "metadata": {
        "id": "YWhO9m4mlAvg"
      },
      "source": [
        "When we convert an integer into a float, we don't really change the value (i.e., the significand) of the number. However, if we cast a float into an integer, we could potentially lose some information. For example, if we cast the float 1.1 to integer we will get 1 and lose the decimal information (i.e., 0.1):"
      ]
    },
    {
      "cell_type": "code",
      "metadata": {
        "id": "ghNEvJErk4Vu",
        "outputId": "696c2d0f-a3de-45d0-e108-88acd6511e96",
        "colab": {
          "base_uri": "https://localhost:8080/"
        }
      },
      "source": [
        "# Example 2\n",
        "# Casting 1.1 to integer will result in loss of information\n",
        "#\n",
        "int(1.1)"
      ],
      "execution_count": 41,
      "outputs": [
        {
          "output_type": "execute_result",
          "data": {
            "text/plain": [
              "1"
            ]
          },
          "metadata": {},
          "execution_count": 41
        }
      ]
    },
    {
      "cell_type": "markdown",
      "metadata": {
        "id": "lgNykfkVlPAq"
      },
      "source": [
        "### 1.6b. Converting from strings to integers or floats\n"
      ]
    },
    {
      "cell_type": "markdown",
      "metadata": {
        "id": "rkSTFCOelV-y"
      },
      "source": [
        "Sometimes, we can have a string that contains a number within it. If this is the case, we can cast that string that represents a number into an integer using int():\n",
        "\n"
      ]
    },
    {
      "cell_type": "code",
      "metadata": {
        "id": "qK1OrMJYlSwk",
        "outputId": "da9bbb51-544e-478e-e70d-bbd9869a6016",
        "colab": {
          "base_uri": "https://localhost:8080/"
        }
      },
      "source": [
        "# Example 1\n",
        "# Let's convert a string into an integer\n",
        "#\n",
        "int('1')"
      ],
      "execution_count": 42,
      "outputs": [
        {
          "output_type": "execute_result",
          "data": {
            "text/plain": [
              "1"
            ]
          },
          "metadata": {},
          "execution_count": 42
        }
      ]
    },
    {
      "cell_type": "code",
      "metadata": {
        "id": "9ixyl-vAljSG",
        "outputId": "c224847c-764b-4bde-a931-f1a68a9a5df3",
        "colab": {
          "base_uri": "https://localhost:8080/",
          "height": 176
        }
      },
      "source": [
        "# Example 2\n",
        "# But if we try to do so with a string that is not a perfect match for a number, we will get an error.\n",
        "#\n",
        "int('1 or 2 people')"
      ],
      "execution_count": 43,
      "outputs": [
        {
          "output_type": "error",
          "ename": "ValueError",
          "evalue": "invalid literal for int() with base 10: '1 or 2 people'",
          "traceback": [
            "\u001b[0;31m---------------------------------------------------------------------------\u001b[0m",
            "\u001b[0;31mValueError\u001b[0m                                Traceback (most recent call last)",
            "\u001b[0;32m<ipython-input-43-6a738b20e574>\u001b[0m in \u001b[0;36m<cell line: 4>\u001b[0;34m()\u001b[0m\n\u001b[1;32m      2\u001b[0m \u001b[0;31m# But if we try to do so with a string that is not a perfect match for a number, we will get an error.\u001b[0m\u001b[0;34m\u001b[0m\u001b[0;34m\u001b[0m\u001b[0m\n\u001b[1;32m      3\u001b[0m \u001b[0;31m#\u001b[0m\u001b[0;34m\u001b[0m\u001b[0;34m\u001b[0m\u001b[0m\n\u001b[0;32m----> 4\u001b[0;31m \u001b[0mint\u001b[0m\u001b[0;34m(\u001b[0m\u001b[0;34m'1 or 2 people'\u001b[0m\u001b[0;34m)\u001b[0m\u001b[0;34m\u001b[0m\u001b[0;34m\u001b[0m\u001b[0m\n\u001b[0m",
            "\u001b[0;31mValueError\u001b[0m: invalid literal for int() with base 10: '1 or 2 people'"
          ]
        }
      ]
    },
    {
      "cell_type": "code",
      "metadata": {
        "id": "1hR-LBq-lvCw",
        "outputId": "d46f3b08-a5c2-4603-8427-128f680deaa3",
        "colab": {
          "base_uri": "https://localhost:8080/"
        }
      },
      "source": [
        "# Example 3\n",
        "# We can also convert strings containing floating point numbers into float objects:\n",
        "#\n",
        "float('1.2')"
      ],
      "execution_count": 44,
      "outputs": [
        {
          "output_type": "execute_result",
          "data": {
            "text/plain": [
              "1.2"
            ]
          },
          "metadata": {},
          "execution_count": 44
        }
      ]
    },
    {
      "cell_type": "markdown",
      "metadata": {
        "id": "-HTYwkHal6e7"
      },
      "source": [
        "### 1.6c. Converting numbers to strings\n"
      ]
    },
    {
      "cell_type": "markdown",
      "metadata": {
        "id": "gLlTlzYml8Fu"
      },
      "source": [
        "If we can convert strings to numbers, it is only natural to assume that we can convert numbers to strings, right?\n",
        "\n"
      ]
    },
    {
      "cell_type": "code",
      "metadata": {
        "id": "XjEcrrz-mByz",
        "outputId": "fbf26dc3-b729-4319-ac6e-f7fc2f93efef",
        "colab": {
          "base_uri": "https://localhost:8080/",
          "height": 35
        }
      },
      "source": [
        "# Example 1\n",
        "# Let's Convert an integer to a string\n",
        "#\n",
        "str(1)"
      ],
      "execution_count": 45,
      "outputs": [
        {
          "output_type": "execute_result",
          "data": {
            "text/plain": [
              "'1'"
            ],
            "application/vnd.google.colaboratory.intrinsic+json": {
              "type": "string"
            }
          },
          "metadata": {},
          "execution_count": 45
        }
      ]
    },
    {
      "cell_type": "markdown",
      "metadata": {
        "id": "KyVOjrcMr4wI"
      },
      "source": [
        "#### <font color=\"green\">1.6c Challenges</font>"
      ]
    },
    {
      "cell_type": "code",
      "metadata": {
        "id": "Rk4YzQRGmH87",
        "outputId": "58aa2808-a953-4626-9020-534f5e29a159",
        "colab": {
          "base_uri": "https://localhost:8080/"
        }
      },
      "source": [
        "# Challenge 1\n",
        "# And there is no reason why we shouldn't be able to make floats into strings as well:\n",
        "# Converting a float 1.2 to a string\n",
        "#\n",
        "type(str(1.2))"
      ],
      "execution_count": 46,
      "outputs": [
        {
          "output_type": "execute_result",
          "data": {
            "text/plain": [
              "str"
            ]
          },
          "metadata": {},
          "execution_count": 46
        }
      ]
    },
    {
      "cell_type": "code",
      "metadata": {
        "id": "fnw2YsM8vswc",
        "outputId": "4859a203-5ce9-4039-9cec-09643abe735c",
        "colab": {
          "base_uri": "https://localhost:8080/"
        }
      },
      "source": [
        "# Challenge 2\n",
        "# How do you convert a digit 6/4 into a string?\n",
        "#\n",
        "type(str(6/4))"
      ],
      "execution_count": 47,
      "outputs": [
        {
          "output_type": "execute_result",
          "data": {
            "text/plain": [
              "str"
            ]
          },
          "metadata": {},
          "execution_count": 47
        }
      ]
    },
    {
      "cell_type": "markdown",
      "metadata": {
        "id": "eib75N_EnVqp"
      },
      "source": [
        "### 1.6d. Boolean Casting\n",
        "We can cast boolean objects to other data types. If we cast a boolean with a value of True to an integer or float we will get a one. If we cast a boolean with a value of False to an integer or float we will get a zero. Similarly, if we cast a 1 to a Boolean, you get a True. And if we cast a 0 to a Boolean we will get a False. Let's give it a try:\n",
        "\n"
      ]
    },
    {
      "cell_type": "code",
      "metadata": {
        "id": "ggrd56z2rd5u",
        "outputId": "5f5fe5d9-996e-496c-ec6a-ba947fb5f163",
        "colab": {
          "base_uri": "https://localhost:8080/"
        }
      },
      "source": [
        "# Example 1\n",
        "# Let's cast 1 to a Boolean\n",
        "bool(1)"
      ],
      "execution_count": 48,
      "outputs": [
        {
          "output_type": "execute_result",
          "data": {
            "text/plain": [
              "True"
            ]
          },
          "metadata": {},
          "execution_count": 48
        }
      ]
    },
    {
      "cell_type": "markdown",
      "metadata": {
        "id": "1x6Hvs-jrru7"
      },
      "source": [
        "#### <font color=\"green\">1.6d Challenges</font>"
      ]
    },
    {
      "cell_type": "code",
      "metadata": {
        "id": "JjfxTMb1n_9z",
        "outputId": "b43b6556-749d-4e37-92ed-f2b1aed5cbab",
        "colab": {
          "base_uri": "https://localhost:8080/"
        }
      },
      "source": [
        "# Challenge 1\n",
        "# Let's convert the value of True to an integer\n",
        "#\n",
        "type(int(True))"
      ],
      "execution_count": 50,
      "outputs": [
        {
          "output_type": "execute_result",
          "data": {
            "text/plain": [
              "int"
            ]
          },
          "metadata": {},
          "execution_count": 50
        }
      ]
    },
    {
      "cell_type": "code",
      "metadata": {
        "id": "1x5bcRVfoNHW",
        "outputId": "fc62c94c-e31c-4736-f136-e31a763ebc3d",
        "colab": {
          "base_uri": "https://localhost:8080/"
        }
      },
      "source": [
        "# Challenge 2\n",
        "# What happens when we cast a 0 to a Boolean?\n",
        "#\n",
        "type(bool(0))"
      ],
      "execution_count": 49,
      "outputs": [
        {
          "output_type": "execute_result",
          "data": {
            "text/plain": [
              "bool"
            ]
          },
          "metadata": {},
          "execution_count": 49
        }
      ]
    },
    {
      "cell_type": "code",
      "metadata": {
        "id": "VrCxNoqXo03X",
        "outputId": "bd61ac50-8e7e-4e74-c40c-3dfb0456056e",
        "colab": {
          "base_uri": "https://localhost:8080/"
        }
      },
      "source": [
        "# Challenge 3\n",
        "# Let's cast a boolean with a value of True to an integer\n",
        "#\n",
        "type(int(True))"
      ],
      "execution_count": 51,
      "outputs": [
        {
          "output_type": "execute_result",
          "data": {
            "text/plain": [
              "int"
            ]
          },
          "metadata": {},
          "execution_count": 51
        }
      ]
    }
  ]
}