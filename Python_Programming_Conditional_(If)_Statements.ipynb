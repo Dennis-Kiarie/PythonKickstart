{
  "nbformat": 4,
  "nbformat_minor": 0,
  "metadata": {
    "colab": {
      "provenance": [],
      "collapsed_sections": [
        "z4xtgHIJ1mui",
        "lsZdOcCiAQdJ",
        "MB_zJqo-41tc",
        "e8-T8Xw-1qYp",
        "Rkw7o23I2N3w",
        "bOZph-F21tuy",
        "qs4cjFqC1wm6",
        "UAFX7NgF23ab",
        "GLyWRU4w11-M"
      ],
      "include_colab_link": true
    },
    "kernelspec": {
      "name": "python3",
      "display_name": "Python 3"
    }
  },
  "cells": [
    {
      "cell_type": "markdown",
      "metadata": {
        "id": "view-in-github",
        "colab_type": "text"
      },
      "source": [
        "<a href=\"https://colab.research.google.com/github/Dennis-Kiarie/PythonKickstart/blob/main/Python_Programming_Conditional_(If)_Statements.ipynb\" target=\"_parent\"><img src=\"https://colab.research.google.com/assets/colab-badge.svg\" alt=\"Open In Colab\"/></a>"
      ]
    },
    {
      "cell_type": "markdown",
      "metadata": {
        "id": "LVp8C4oB0yzk"
      },
      "source": [
        "# Python Programming: Conditional (If) Statements"
      ]
    },
    {
      "cell_type": "markdown",
      "metadata": {
        "id": "z4xtgHIJ1mui"
      },
      "source": [
        "## 1.0 Overview"
      ]
    },
    {
      "cell_type": "markdown",
      "metadata": {
        "id": "fS6UBkKd2DMo"
      },
      "source": [
        "So as to write useful python programs, we almost always need the ability to check conditions and apply a certain operation accordingly. Conditional statements like the if statement provide us with that ability."
      ]
    },
    {
      "cell_type": "markdown",
      "metadata": {
        "id": "lsZdOcCiAQdJ"
      },
      "source": [
        "##1.1 If"
      ]
    },
    {
      "cell_type": "code",
      "metadata": {
        "id": "-6728JH-2Esz",
        "outputId": "ecce113b-c6ed-4a1b-823f-b1f578276398",
        "colab": {
          "base_uri": "https://localhost:8080/"
        }
      },
      "source": [
        "# Example 1\n",
        "# We can write an if statement by using the if keyword as shown:\n",
        "#\n",
        "x = 200\n",
        "y = 100\n",
        "if y < x:\n",
        "  print(\"y is less than x\")"
      ],
      "execution_count": 1,
      "outputs": [
        {
          "output_type": "stream",
          "name": "stdout",
          "text": [
            "y is less than x\n"
          ]
        }
      ]
    },
    {
      "cell_type": "code",
      "metadata": {
        "id": "ueDGWWPm2FHW"
      },
      "source": [
        "# Example 2\n",
        "# Below is another example of an if statement\n",
        "#\n",
        "x = 1\n",
        "y = 7\n",
        "\n",
        "# let's find out if x is greater than 7\n",
        "if x > y:\n",
        "  print('yes')"
      ],
      "execution_count": 2,
      "outputs": []
    },
    {
      "cell_type": "markdown",
      "metadata": {
        "id": "MB_zJqo-41tc"
      },
      "source": [
        "### <font color=\"green\">1.1 Challenges</font>"
      ]
    },
    {
      "cell_type": "code",
      "metadata": {
        "id": "DD_AaNYQFjQw"
      },
      "source": [
        "# Challenge 1\n",
        "# In our first challenge, we will find out if y is less than 7\n",
        "# If so, we will print out yes.\n",
        "#\n",
        "\n",
        "# We first declare and assign 1 to variable x and 7 to variable y\n",
        "x = 1\n",
        "y = 7\n",
        "\n",
        "if y < 7:\n",
        "  print('yes')\n"
      ],
      "execution_count": 3,
      "outputs": []
    },
    {
      "cell_type": "code",
      "metadata": {
        "id": "56hXs9yRFjFb",
        "outputId": "80e1fe9f-468c-4569-9d2a-2a464126766f",
        "colab": {
          "base_uri": "https://localhost:8080/"
        }
      },
      "source": [
        "# Challenge 2\n",
        "# Let's find out if x == true. If so, we will print out yes.\n",
        "# We won't need to declare any variable in this challenge.\n",
        "#\n",
        "if x==True:\n",
        "  print('yes')"
      ],
      "execution_count": 4,
      "outputs": [
        {
          "output_type": "stream",
          "name": "stdout",
          "text": [
            "yes\n"
          ]
        }
      ]
    },
    {
      "cell_type": "code",
      "metadata": {
        "id": "b6R-wr4xFp5e"
      },
      "source": [
        "# Challenge 3\n",
        "# Let's find out if y is true. If so, we will print out yes.\n",
        "# We won't need to declare any variable in this challenge as well\n",
        "#\n",
        "if y==True:\n",
        "  print('yes')"
      ],
      "execution_count": 5,
      "outputs": []
    },
    {
      "cell_type": "markdown",
      "metadata": {
        "id": "e8-T8Xw-1qYp"
      },
      "source": [
        "## 1.2 Elif"
      ]
    },
    {
      "cell_type": "code",
      "metadata": {
        "id": "ERoyYLdk2MLL",
        "outputId": "385a7a2f-1354-499a-c939-895df0084f83",
        "colab": {
          "base_uri": "https://localhost:8080/"
        }
      },
      "source": [
        "# Example 1\n",
        "# The elif keyword is a keyword that will try another condition\n",
        "# if the previous condition was not true.\n",
        "# The example below shows how the elif keyword can be used.\n",
        "#\n",
        "x = 33\n",
        "y = 33\n",
        "\n",
        "if y < x:\n",
        "  print(\"y is less than x\")\n",
        "elif x == y:\n",
        "  print(\"x and y are equal\")"
      ],
      "execution_count": 6,
      "outputs": [
        {
          "output_type": "stream",
          "name": "stdout",
          "text": [
            "x and y are equal\n"
          ]
        }
      ]
    },
    {
      "cell_type": "code",
      "metadata": {
        "id": "GT8Q7jdf2Mze",
        "outputId": "e6271b40-2c66-439f-e699-90b341b56cd3",
        "colab": {
          "base_uri": "https://localhost:8080/"
        }
      },
      "source": [
        "# Example 2\n",
        "# This is another example of how the elif keyword can be used.\n",
        "#\n",
        "choice = 'a'\n",
        "if choice == 'a':\n",
        "    print(\"You chose 'a'.\")\n",
        "elif choice == 'b':\n",
        "    print(\"You chose 'b'.\")\n",
        "elif choice == 'c':\n",
        "    print(\"You chose 'c'.\")"
      ],
      "execution_count": 8,
      "outputs": [
        {
          "output_type": "stream",
          "name": "stdout",
          "text": [
            "You chose 'a'.\n"
          ]
        }
      ]
    },
    {
      "cell_type": "markdown",
      "metadata": {
        "id": "Rkw7o23I2N3w"
      },
      "source": [
        "### <font color=\"green\">1.2 Challenges </font>"
      ]
    },
    {
      "cell_type": "code",
      "metadata": {
        "id": "4yVpcy0f2RBM",
        "outputId": "ac812a0d-e47e-4dd9-b7db-b7327cd86e1d",
        "colab": {
          "base_uri": "https://localhost:8080/"
        }
      },
      "source": [
        "# Challenge 1\n",
        "# Let's now write a program that reads an integer\n",
        "# from a user then displays a message indicating\n",
        "# whether the integer is even or odd.\n",
        "#\n",
        "a = int(input('Enter a number: '))\n",
        "if a%2==0:\n",
        "  print(a, 'is even number')\n",
        "else:\n",
        "  print(a, 'is odd number')"
      ],
      "execution_count": 13,
      "outputs": [
        {
          "output_type": "stream",
          "name": "stdout",
          "text": [
            "Enter a number: 58\n",
            "58 is even number\n"
          ]
        }
      ]
    },
    {
      "cell_type": "code",
      "metadata": {
        "id": "LN1DVYd52R2_",
        "outputId": "f89f0d73-c9c6-402c-f918-3e7a0c12db2b",
        "colab": {
          "base_uri": "https://localhost:8080/"
        }
      },
      "source": [
        "# Challenge 2:\n",
        "# We now write a program that reads a input from a user.\n",
        "# If the user enters a, e, i, o or u then our program should\n",
        "# display a message indicating that the entered letter is a vowel.\n",
        "# If our user enters y then our program should display a message\n",
        "# indicating that sometimes y is a vowel, and sometimes y is a consonant.\n",
        "# Otherwise our program should display a message indicating that the\n",
        "# letter is a consonant.\n",
        "#\n",
        "letter = input(\"Enter a letter of the alphabet:\").lower()\n",
        "if letter in 'aeiou':\n",
        "  print(f\"The letter '{letter}' is a vowel\")\n",
        "elif letter == y:\n",
        "  print(f\"The letter '{letter}' is sometimes a vowel and sometimes a consonant \")\n",
        "else:\n",
        "  print(f\"The letter '{letter}' is a consonant\")"
      ],
      "execution_count": 17,
      "outputs": [
        {
          "output_type": "stream",
          "name": "stdout",
          "text": [
            "Enter a letter of the alphabet:D\n",
            "The letter 'd' is a consonant\n"
          ]
        }
      ]
    },
    {
      "cell_type": "code",
      "metadata": {
        "id": "WyGQSsN22Rkg",
        "outputId": "7e66a4d3-200a-4575-e69d-17fb70dcecfb",
        "colab": {
          "base_uri": "https://localhost:8080/"
        }
      },
      "source": [
        "# Challenge 3\n",
        "# Let's now also write another program that asks for a number and computes the\n",
        "# square of that number. If the square is 100 or greater, print the squared value\n",
        "# and the word 'big'. Otherwise if the square is 50 or greater, print the\n",
        "# squared value and the word 'medium'. Otherwise just print 'too small to bother with'.\n",
        "# Hint: To compute squared, use x*x or x**2\n",
        "#\n",
        "a = int(input(\"Enter a number:\"))\n",
        "b = a**2\n",
        "if b >= 100 :\n",
        "  print(f\"{b} big\")\n",
        "elif b>=50:\n",
        "  print(f\"{b} medium\")\n",
        "else:\n",
        "  print(f\"{b} too small\")"
      ],
      "execution_count": 24,
      "outputs": [
        {
          "output_type": "stream",
          "name": "stdout",
          "text": [
            "Enter a number:8\n",
            "64 medium\n"
          ]
        }
      ]
    },
    {
      "cell_type": "markdown",
      "metadata": {
        "id": "bOZph-F21tuy"
      },
      "source": [
        "## 1.3 Else"
      ]
    },
    {
      "cell_type": "code",
      "metadata": {
        "id": "F8nzCtX82v-A",
        "outputId": "e3556e6c-da4f-4d75-a36d-fffc960b222e",
        "colab": {
          "base_uri": "https://localhost:8080/"
        }
      },
      "source": [
        "# Example 1\n",
        "# The else keyword will catch anything else which isn't caught by the preceding conditions.\n",
        "# A use case of else keyword is in the following example.\n",
        "#\n",
        "\n",
        "# Declaring our variables\n",
        "x = 134\n",
        "y = 33\n",
        "\n",
        "if y > x:\n",
        "  print(\"y is greater than x\")\n",
        "elif x == y:\n",
        "  print(\"x and y are equal\")\n",
        "else:\n",
        "  print(\"x is greater than y\")"
      ],
      "execution_count": 25,
      "outputs": [
        {
          "output_type": "stream",
          "name": "stdout",
          "text": [
            "x is greater than y\n"
          ]
        }
      ]
    },
    {
      "cell_type": "code",
      "metadata": {
        "id": "Zk9b5LJF2wcB",
        "outputId": "0041f344-7b4d-4aa6-99ce-58e7b15af99e",
        "colab": {
          "base_uri": "https://localhost:8080/"
        }
      },
      "source": [
        "# Example 2\n",
        "# The else keyword can also be used without elif as shown\n",
        "#\n",
        "\n",
        "# Prompting the user for an input\n",
        "temp_outside = float(input('What is the temperature outside? '))\n",
        "\n",
        "if temp_outside > 12:\n",
        "  print('No need for a sweater')\n",
        "else:\n",
        "  print('You need an sweater')"
      ],
      "execution_count": 26,
      "outputs": [
        {
          "output_type": "stream",
          "name": "stdout",
          "text": [
            "What is the temperature outside? 20\n",
            "No need for a sweater\n"
          ]
        }
      ]
    },
    {
      "cell_type": "code",
      "metadata": {
        "id": "HaGipQqmvPXE",
        "outputId": "3280bf83-e52c-4ad0-b483-63a334b072cd",
        "colab": {
          "base_uri": "https://localhost:8080/"
        }
      },
      "source": [
        "# Example 3\n",
        "# We should also note that indentation is significantly important as shown\n",
        "#\n",
        "\n",
        "# Declaring our varioable\n",
        "x = 8\n",
        "\n",
        "if x > 12:\n",
        "  print ('x is greater than 12')\n",
        "elif x >= 17:\n",
        "    print ('x is also at least 17')\n",
        "elif x > 7:\n",
        "    print ('x is greater than 7 but not greater than 12')\n",
        "else:\n",
        "    print ('no condition matched')\n",
        "    print ('so x is 7 or less')"
      ],
      "execution_count": 33,
      "outputs": [
        {
          "output_type": "stream",
          "name": "stdout",
          "text": [
            "x is greater than 7 but not greater than 12\n"
          ]
        }
      ]
    },
    {
      "cell_type": "markdown",
      "metadata": {
        "id": "X5rie0KH2xAp"
      },
      "source": [
        "### <font color=\"green\"> 1.3 Challenges </font>"
      ]
    },
    {
      "cell_type": "code",
      "metadata": {
        "id": "z3TvASOt2zIt",
        "outputId": "f802a501-c14c-4eb7-f3a2-8f145eec8f9c",
        "colab": {
          "base_uri": "https://localhost:8080/"
        }
      },
      "source": [
        "# Challenge 1\n",
        "# Let's write a program that reads a month and day from the user.\n",
        "# If the month and day matches one of the holidays listed previously\n",
        "# then the program should display the Kenyan holiday’s name.\n",
        "# Otherwise our program should indicate that the entered month and day\n",
        "# do not correspond to a holiday. (You should use the else keyword)\n",
        "\n",
        "#Define a dictionary of Kenyan holidays\n",
        "holidays = {\n",
        "    '1-1': \"New Year's Day\",\n",
        "    '4-7': \"Good Friday\",\n",
        "    '4-10': \"Easter Monday\",\n",
        "    '5-1': \"Labour Day\",\n",
        "    '6-1': \"Madaraka Day\",\n",
        "    '10-10': \"Huduma Day\",\n",
        "    '10-20': \"Mashujaa Day\",\n",
        "    '12-12': \"Jamhuri Day\",\n",
        "    '12-25': \"Christmas Day\",\n",
        "    '12-26': \"Boxing Day\"\n",
        "}\n",
        "\n",
        "#Read input from the user\n",
        "month = input(\"Enter the month (1-12): \")\n",
        "day = input(\"Enter the day (1-31): \")\n",
        "\n",
        "#Format the input into a key to match the dictionary\n",
        "date = f\"{int(month)}-{int(day)}\"\n",
        "\n",
        "# Check if the entered date is a holiday\n",
        "if date in holidays:\n",
        "    print(f\"The entered date corresponds to {holidays[date]}.\")\n",
        "else:\n",
        "    print(\"The entered month and day do not correspond to a holiday.\")\n"
      ],
      "execution_count": 35,
      "outputs": [
        {
          "output_type": "stream",
          "name": "stdout",
          "text": [
            "Enter the month (1-12): 6\n",
            "Enter the day (1-31): 1\n",
            "The entered date corresponds to Madaraka Day.\n"
          ]
        }
      ]
    },
    {
      "cell_type": "code",
      "metadata": {
        "id": "szGqVsAc2zft",
        "outputId": "360beff4-ea3f-4d7d-bf8b-96d5523741ea",
        "colab": {
          "base_uri": "https://localhost:8080/"
        }
      },
      "source": [
        "# Challenge 2\n",
        "# Write a program that reads a wavelength from the user and reports its color.\n",
        "# Display an appropriate error message if the wavelength entered by the user\n",
        "# is outside of the visible spectrum.\n",
        "# (You can do external research on this challenge to determine the wavelength).\n",
        "# You should use the else keyword.\n",
        "#\n",
        "\n",
        "wavelength = float(input(\"Enter wavelength(nm): \"))\n",
        "\n",
        "if wavelength > 1e9:\n",
        "    print(\" Radio Waves\")\n",
        "elif wavelength > 1e6:\n",
        "    print(\"Microwaves\")\n",
        "elif wavelength > 750:\n",
        "    print(\"Infrared\")\n",
        "elif wavelength >= 620:\n",
        "    print(\" Red\")\n",
        "elif wavelength >= 590:\n",
        "    print(\"Yellow\")\n",
        "elif wavelength >= 570:\n",
        "    print(\"Green\")\n",
        "elif wavelength >= 450:\n",
        "    print(\"Blue\")\n",
        "elif wavelength >= 380:\n",
        "    print(\"Violet\")\n",
        "elif wavelength >= 10:\n",
        "    print(\"Ultraviolet\")\n",
        "elif wavelength >= 0.01:\n",
        "    print(\"X-rays\")\n",
        "else:\n",
        "    print(\"Gamma Rays\")\n"
      ],
      "execution_count": 16,
      "outputs": [
        {
          "output_type": "stream",
          "name": "stdout",
          "text": [
            "Enter wavelength(nm): 0.005\n",
            "Gamma Rays\n"
          ]
        }
      ]
    },
    {
      "cell_type": "code",
      "metadata": {
        "id": "1uHkXVZtuMPK",
        "outputId": "a5fad2d0-495a-4a52-c517-8cf16943640e",
        "colab": {
          "base_uri": "https://localhost:8080/"
        }
      },
      "source": [
        "# Challenge 3\n",
        "# Let's create a program that reads the name of a month from the user as a string,\n",
        "# then displays the number of days in that month.\n",
        "# The length of a month varies from 28 to 31 days.\n",
        "# The program needs to also display “28 or 29 days” for February\n",
        "# so that leap years are taken into account.\n",
        "# The program should use the else keyword.\n",
        "#\n",
        "# Read the name of the month from the user\n",
        "month = input(\"Enter the name of a month: \").strip().capitalize()\n",
        "\n",
        "# Determine the number of days in the month\n",
        "if month == \"January\":\n",
        "    days = 31\n",
        "elif month == \"March\":\n",
        "    days = 31\n",
        "elif month == \"May\":\n",
        "    days = 31\n",
        "elif month == \"July\":\n",
        "    days = 31\n",
        "elif month == \"August\":\n",
        "    days = 31\n",
        "elif month == \"October\":\n",
        "    days = 31\n",
        "elif month == \"December\":\n",
        "    days = 31\n",
        "elif month == \"April\":\n",
        "    days = 30\n",
        "elif month == \"June\":\n",
        "    days = 30\n",
        "elif month == \"September\":\n",
        "    days = 30\n",
        "elif month == \"November\":\n",
        "    days = 30\n",
        "elif month == \"February\":\n",
        "    days = \"28 or 29\"\n",
        "else:\n",
        "    days = \"Invalid month name\"\n",
        "\n",
        "# Display the number of days in the month\n",
        "print(f\"{month} has {days} days.\")\n"
      ],
      "execution_count": 20,
      "outputs": [
        {
          "output_type": "stream",
          "name": "stdout",
          "text": [
            "Enter the name of a month: july\n",
            "July has 31 days.\n"
          ]
        }
      ]
    },
    {
      "cell_type": "markdown",
      "metadata": {
        "id": "qs4cjFqC1wm6"
      },
      "source": [
        "## 1.4 And"
      ]
    },
    {
      "cell_type": "code",
      "metadata": {
        "id": "QhXLc8z-2120",
        "outputId": "a9158d13-7992-4b0f-ad10-fbbb620783b9",
        "colab": {
          "base_uri": "https://localhost:8080/"
        }
      },
      "source": [
        "# Example 1\n",
        "# We can also use the and keyword to combine conditional statements.\n",
        "#\n",
        "\n",
        "# Declaring our variables\n",
        "x = 11\n",
        "y = 10\n",
        "z = 12\n",
        "\n",
        "if x > y and z > x:\n",
        "  print(\"Both conditions are True\")"
      ],
      "execution_count": 36,
      "outputs": [
        {
          "output_type": "stream",
          "name": "stdout",
          "text": [
            "Both conditions are True\n"
          ]
        }
      ]
    },
    {
      "cell_type": "code",
      "metadata": {
        "id": "fRaI1Odr22lS",
        "outputId": "4932798f-f201-4433-d145-29b0ea4f37b0",
        "colab": {
          "base_uri": "https://localhost:8080/"
        }
      },
      "source": [
        "# Example 2\n",
        "#\n",
        "\n",
        "# Declaring our variables\n",
        "name = \"James\"\n",
        "age  = 24\n",
        "\n",
        "if name == \"James\" and age == 24:\n",
        "  print(\"Your name is James, and you are also 24 years old.\")"
      ],
      "execution_count": 37,
      "outputs": [
        {
          "output_type": "stream",
          "name": "stdout",
          "text": [
            "Your name is James, and you are also 24 years old.\n"
          ]
        }
      ]
    },
    {
      "cell_type": "code",
      "metadata": {
        "id": "VB5NlzM922Ux",
        "outputId": "aa1c04ed-f26c-4eaf-df49-b5ca5bb11624",
        "colab": {
          "base_uri": "https://localhost:8080/"
        }
      },
      "source": [
        "# Example 3\n",
        "#\n",
        "\n",
        "# Declaring our variables\n",
        "name = \"OUR CODE GOES HERE\"      # Let's store our name in the name variable\n",
        "age  =  \"OUR CODE GOES HERE\"        # Let's store our age in the age variable\n",
        "\n",
        "if name == \"James\" and age == 24:\n",
        "  print(\"Your name is James, and you are also 24 years old.\")\n",
        "else:\n",
        "  print(\"You are not James, who is 24 years old.\")"
      ],
      "execution_count": 39,
      "outputs": [
        {
          "output_type": "stream",
          "name": "stdout",
          "text": [
            "You are not James, who is 24 years old.\n"
          ]
        }
      ]
    },
    {
      "cell_type": "markdown",
      "metadata": {
        "id": "UAFX7NgF23ab"
      },
      "source": [
        "### <font color=\"green\">1.4 Challenges</font>"
      ]
    },
    {
      "cell_type": "code",
      "metadata": {
        "id": "g26Rql1z25Ff",
        "outputId": "b396cd66-036c-4354-abdb-7a9c09aa61d6",
        "colab": {
          "base_uri": "https://localhost:8080/"
        }
      },
      "source": [
        "# Challenge 1:\n",
        "# Given the 3 sides of a triangle x, y and z, let's find out\n",
        "# whether the triangle is equilateral, isosceles or obtuse.\n",
        "# Note: An equilateral triagnle has all sides are equal,\n",
        "# isosceles means that two of the sides are equal but not the third one,\n",
        "# obtuse means all 3 are different. The user will be prompted\n",
        "# to provide the values of x, y and z\n",
        "#\n",
        "x,y,z = float(input(\"Enter the value of x: \")), float(input(\"Enter the value of y: \")), float(input(\"Enter the value of z:\"))\n",
        "if x==y==z:\n",
        "  print(\"Equilateral triangle\")\n",
        "elif x==y or y==z or z==x:\n",
        "  print(\"Isosceles triangle\")\n",
        "else:\n",
        "  print(\"Obtuse triangle\")\n"
      ],
      "execution_count": 24,
      "outputs": [
        {
          "output_type": "stream",
          "name": "stdout",
          "text": [
            "Enter the value of x: 5\n",
            "Enter the value of y: 4\n",
            "Enter the value of z:9\n",
            "Obtuse triangle\n"
          ]
        }
      ]
    },
    {
      "cell_type": "markdown",
      "metadata": {
        "id": "GLyWRU4w11-M"
      },
      "source": [
        "## 1.5 Or"
      ]
    },
    {
      "cell_type": "code",
      "metadata": {
        "id": "jIyeUjAq3D2n",
        "outputId": "8f86fbb8-a164-463e-808c-a8f7e7e0a7c5",
        "colab": {
          "base_uri": "https://localhost:8080/"
        }
      },
      "source": [
        "# Example 1\n",
        "# We can also use the if keyword to combine conditional statements.\n",
        "#\n",
        "\n",
        "# Declaring our variables\n",
        "x = 10\n",
        "y = 11\n",
        "z = 9\n",
        "\n",
        "if x > y or x > z:\n",
        "  print(\"At least one of the conditions is True\")"
      ],
      "execution_count": 25,
      "outputs": [
        {
          "output_type": "stream",
          "name": "stdout",
          "text": [
            "At least one of the conditions is True\n"
          ]
        }
      ]
    },
    {
      "cell_type": "code",
      "metadata": {
        "id": "bq7T-If83FVy",
        "outputId": "3ce85f04-74bb-46cc-d291-63d7f2d3b67e",
        "colab": {
          "base_uri": "https://localhost:8080/"
        }
      },
      "source": [
        "# Example 2\n",
        "#\n",
        "\n",
        "# Declaring our variables\n",
        "x = int(input(\"Enter value of x = \"))\n",
        "y = int(input(\"Enter value of y = \"))\n",
        "\n",
        "if (x >= 15) or (y <= 25):\n",
        "  print(\"x >= 15 or y <= 25 so if statement is True\")\n",
        "else:\n",
        "  print(\"Value of x < 15 and y > 25 so if statement is False!\")"
      ],
      "execution_count": 26,
      "outputs": [
        {
          "output_type": "stream",
          "name": "stdout",
          "text": [
            "Enter value of x = 5\n",
            "Enter value of y = 7\n",
            "x >= 15 or y <= 25 so if statement is True\n"
          ]
        }
      ]
    },
    {
      "cell_type": "code",
      "metadata": {
        "id": "FN29xkMq3FnA",
        "outputId": "67151152-390a-4be5-8d32-4e9198df2ecd",
        "colab": {
          "base_uri": "https://localhost:8080/"
        }
      },
      "source": [
        "# Example 3\n",
        "#\n",
        "\n",
        "# Declaring our variables\n",
        "w = 10\n",
        "x = 15\n",
        "y = 20\n",
        "z = 25\n",
        "\n",
        "if (w == 10 or x == 15) and (y == 16 or z == 25):\n",
        "  print(\"If statement is True\")\n",
        "else:\n",
        "  print(\"False\")"
      ],
      "execution_count": 27,
      "outputs": [
        {
          "output_type": "stream",
          "name": "stdout",
          "text": [
            "If statement is True\n"
          ]
        }
      ]
    },
    {
      "cell_type": "markdown",
      "metadata": {
        "id": "TNIQRbN-3GNh"
      },
      "source": [
        "### <font color=\"green\">1.5 Challenges</font>"
      ]
    },
    {
      "cell_type": "code",
      "metadata": {
        "id": "Vhx4FY_P3J93",
        "outputId": "cc4ba192-21b9-4518-fc52-3b56e3ee9b62",
        "colab": {
          "base_uri": "https://localhost:8080/"
        }
      },
      "source": [
        "# Challenge 1\n",
        "# Using the Or operator, let's create a function\n",
        "# that determines the type of a triangle\n",
        "# based on the lengths of its sides. A user will be inputting\n",
        "# the sides of the triange\n",
        "#\n",
        "def determine_triangle_type(a, b, c):\n",
        "    if a == b == c:\n",
        "        return \"Equilateral\"\n",
        "    elif a == b or b == c or a == c:\n",
        "        return \"Isosceles\"\n",
        "    elif a**2 + b**2 < c**2 or b**2 + c**2 < a**2 or a**2 + c**2 < b**2:\n",
        "        return \"Obtuse\"\n",
        "    else:\n",
        "        return \"Scalene\"\n",
        "\n",
        "# Read input from the user\n",
        "a = float(input(\"Enter the length of the first side: \"))\n",
        "b =float(input(\"Enter the length of the second side: \"))\n",
        "c = float(input(\"Enter the length of the third side: \"))\n",
        "\n",
        "# Output the type of triangle\n",
        "print(f\"The triangle is {determine_triangle_type(a, b, c)}.\")\n"
      ],
      "execution_count": 38,
      "outputs": [
        {
          "output_type": "stream",
          "name": "stdout",
          "text": [
            "Enter the length of the first side: 6\n",
            "Enter the length of the second side: 7\n",
            "Enter the length of the third side: 9\n",
            "The triangle is Scalene.\n"
          ]
        }
      ]
    },
    {
      "cell_type": "code",
      "metadata": {
        "id": "VVh8NAu83KW6",
        "outputId": "eb373211-6b96-4a5e-b181-066718bda759",
        "colab": {
          "base_uri": "https://localhost:8080/"
        }
      },
      "source": [
        "\n",
        "# Challenge 2\n",
        "# Using the Or operator, let's create a function\n",
        "# that checks whether a number given\n",
        "# by a user is greater than 30 or greater than 100.\n",
        "#\n",
        "def check_number(number):\n",
        "    if number > 30 or number > 100:\n",
        "        return True\n",
        "    else:\n",
        "        return False\n",
        "\n",
        "# Read input from the user\n",
        "number = float(input(\"Enter a number: \"))\n",
        "check_number(number)"
      ],
      "execution_count": 41,
      "outputs": [
        {
          "name": "stdout",
          "output_type": "stream",
          "text": [
            "Enter a number: 50\n"
          ]
        },
        {
          "output_type": "execute_result",
          "data": {
            "text/plain": [
              "True"
            ]
          },
          "metadata": {},
          "execution_count": 41
        }
      ]
    },
    {
      "cell_type": "code",
      "metadata": {
        "id": "5sMQVqPQtUaO",
        "outputId": "58bcd88c-097d-48e1-cb07-fa5f676c5781",
        "colab": {
          "base_uri": "https://localhost:8080/"
        }
      },
      "source": [
        "# Challenge 3\n",
        "# Let's write a program that prompts a letter from a user.\n",
        "# When any of the letters a, e, i, o or u are entered,\n",
        "# then your program should display a message indicating that the entered letter is a vowel.\n",
        "# If the user enters y then your program should display a message\n",
        "# indicating that sometimes y is a vowel, and sometimes y is a consonant.\n",
        "# Else the program should display a message indicating that the letter is a consonant.\n",
        "#\n",
        "def check_letter(letter):\n",
        "    vowels = ['a', 'e', 'i', 'o', 'u']\n",
        "    if letter.lower() in vowels:\n",
        "        return \"Vowel\"\n",
        "    elif letter.lower() == 'y':\n",
        "        return \"Sometimes a vowel, and sometimes a consonant\"\n",
        "    else:\n",
        "        return \"Consonant\"\n",
        "\n",
        "# Read input from the user\n",
        "letter = input(\"Enter a letter: \")\n",
        "print(f\"The letter '{letter}' is a {check_letter(letter)}\")"
      ],
      "execution_count": 48,
      "outputs": [
        {
          "output_type": "stream",
          "name": "stdout",
          "text": [
            "Enter a letter: d\n",
            "The letter 'd' is a Consonant\n"
          ]
        }
      ]
    }
  ]
}