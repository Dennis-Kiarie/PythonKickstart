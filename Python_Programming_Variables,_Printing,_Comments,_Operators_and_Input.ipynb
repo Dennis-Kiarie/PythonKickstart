{
  "nbformat": 4,
  "nbformat_minor": 0,
  "metadata": {
    "colab": {
      "provenance": [],
      "collapsed_sections": [
        "ouu4WxP3MIgj",
        "Q9nYivGzNDz8",
        "ewLHJRjljHm2",
        "ZCa4gqEhMQeX",
        "9g9cO9kTj7eS",
        "enegx82E43R0",
        "O8SLfCskkHv4",
        "UgmQhU5qeG8x",
        "8MEIfFSclWvn",
        "wCNLWKgJeLJn",
        "eEu2bBRRlo1e"
      ],
      "include_colab_link": true
    },
    "kernelspec": {
      "name": "python3",
      "display_name": "Python 3"
    }
  },
  "cells": [
    {
      "cell_type": "markdown",
      "metadata": {
        "id": "view-in-github",
        "colab_type": "text"
      },
      "source": [
        "<a href=\"https://colab.research.google.com/github/Dennis-Kiarie/PythonKickstart/blob/main/Python_Programming_Variables%2C_Printing%2C_Comments%2C_Operators_and_Input.ipynb\" target=\"_parent\"><img src=\"https://colab.research.google.com/assets/colab-badge.svg\" alt=\"Open In Colab\"/></a>"
      ]
    },
    {
      "cell_type": "markdown",
      "metadata": {
        "id": "ZJUYY3Kvm4jW"
      },
      "source": [
        "<font color=\"green\">*To start working on this notebook, or any other notebook that we will use in this course, we will need to save our own copy of it. We can do this by clicking File > Save a Copy in Drive. We will then be able to make edits to our own copy of this notebook.*</font>\n",
        "\n",
        "---\n",
        "\n"
      ]
    },
    {
      "cell_type": "markdown",
      "metadata": {
        "id": "yP8LWf2IYcPt"
      },
      "source": [
        "# Variables, Printing, Comments, Operators and Input"
      ]
    },
    {
      "cell_type": "markdown",
      "metadata": {
        "id": "ouu4WxP3MIgj"
      },
      "source": [
        "## 1.0 Introduction"
      ]
    },
    {
      "cell_type": "markdown",
      "metadata": {
        "id": "FpRH6APAK3vV"
      },
      "source": [
        "Python is a programming language that is popularly used for data science. In this section we will get to learn the basics of the python programming language. More specifically, we will get to learn about printing, comments, variables operators and Input.\n",
        "\n",
        "---\n",
        "\n",
        "\n",
        "\n",
        "\n",
        "\n"
      ]
    },
    {
      "cell_type": "markdown",
      "metadata": {
        "id": "7LQwxB9bVRP1"
      },
      "source": [
        "Let's now swiftly begin to write code. Code is a set of instructions that a programmer writes so as to perform a particular task. Code can be written to perform calculations, move a robotic arm, perform analysis etc. During the course of the Moringa Data Science program, we will write alot of code and and this will help you become more confortable at solving a diverse of data science problems.\n",
        "\n",
        "We will also be using Colaboratory, which is an environment that we can use to run our code. This will eliminate the need to spend alot of time installing and configuring your environment and help you spend more time on learning how to write effective code.\n",
        "\n",
        "The page that we are currently using is called a notebook, while the different sections of this notebook are called cells. The cells can be either code or text. In order to start using a ready created notebook just like this one, we will have to first save a copy of this note book on drive i.e. visit File > Save a copy in Drive. This will allow us to have our own copy of the notebook and update any changes we want for example adding code.\n",
        "\n",
        "In order to run our code as shown in the example below, we can drag our mouse to the left of the cell and click on the circular icon with a triangle pointing to the right. Alternatively, we can click inside the cell which we want to run, then press shift+return buttons on our keyboard, all at the same time.\n",
        "\n"
      ]
    },
    {
      "cell_type": "code",
      "metadata": {
        "id": "STRIQLywyUzJ",
        "outputId": "4b5ac0b6-e292-40fa-98ef-e0de07ab21f1",
        "colab": {
          "base_uri": "https://localhost:8080/"
        }
      },
      "source": [
        "# Example\n",
        "#\n",
        "print(\"I just ran my first python code\")"
      ],
      "execution_count": 1,
      "outputs": [
        {
          "output_type": "stream",
          "name": "stdout",
          "text": [
            "I just ran my first python code\n"
          ]
        }
      ]
    },
    {
      "cell_type": "markdown",
      "metadata": {
        "id": "DQXZu9wpDN5E"
      },
      "source": [
        "Don't worry, the first run of the code will take a few seconds to run. Thereafter, the running of our code will be much more faster. As we have also seen, our code is displayed at the bottom of the cell. This section of the cell is called the console and its where the output of our code will always be displayed."
      ]
    },
    {
      "cell_type": "markdown",
      "metadata": {
        "id": "Q9nYivGzNDz8"
      },
      "source": [
        "## 1.1 Printing\n"
      ]
    },
    {
      "cell_type": "markdown",
      "metadata": {
        "id": "K2Y5xqKgKwWF"
      },
      "source": [
        "The second thing that you must have noted in that line of code that we've just ran, is the keyword \"print\". This keyword is meant to print out any text that goes into the following parenthesis. By printing out, we mean outputing our code in the console.  As we continue learning python, we will also come across other keywords that are used to perform different tasks. Such keywords which have two brackets as print() are called functions. In the above example, we used the function print(). We shouldn't now worry about what these functions are as we will learn about them later in the course."
      ]
    },
    {
      "cell_type": "markdown",
      "metadata": {
        "id": "ewLHJRjljHm2"
      },
      "source": [
        "### <font color = 'green'> 1.1 Challenges</font>"
      ]
    },
    {
      "cell_type": "code",
      "metadata": {
        "id": "A9EAzlEUjKDf",
        "outputId": "0de720a6-c2ae-4df1-b4aa-5fa51aecf3bb",
        "colab": {
          "base_uri": "https://localhost:8080/"
        }
      },
      "source": [
        "# Challenge 1:\n",
        "# Let's now print out your name in the console of this cell.\n",
        "# Replace the text \"OUR CODE GOES HERE\" with the code that you will write\n",
        "# and do likewise to the following examples.\n",
        "#\n",
        "\n",
        "print(\"Dennis Kiarie\")"
      ],
      "execution_count": 2,
      "outputs": [
        {
          "output_type": "stream",
          "name": "stdout",
          "text": [
            "Dennis Kiarie\n"
          ]
        }
      ]
    },
    {
      "cell_type": "code",
      "metadata": {
        "id": "Ffeem6qVjKar"
      },
      "source": [
        "# Challenge 2:\n",
        "# Let's print \"I am a Moringa Data Science Student\" below\n",
        "#\n",
        "\n",
        "print(\"I am a Moringa Data Science Student\")"
      ],
      "execution_count": null,
      "outputs": []
    },
    {
      "cell_type": "code",
      "metadata": {
        "id": "B3681apHjKRN",
        "outputId": "b3c99b41-e9d4-4425-8f76-0a398f591c28",
        "colab": {
          "base_uri": "https://localhost:8080/"
        }
      },
      "source": [
        "# Challenge 3:\n",
        "# Print out the sum of 44 and 22 below\n",
        "# NB: We need to see 44 + 22 in our code\n",
        "#\n",
        "\n",
        "print(44+22)"
      ],
      "execution_count": 4,
      "outputs": [
        {
          "output_type": "stream",
          "name": "stdout",
          "text": [
            "66\n"
          ]
        }
      ]
    },
    {
      "cell_type": "markdown",
      "metadata": {
        "id": "ZCa4gqEhMQeX"
      },
      "source": [
        "## 1.2 Comments"
      ]
    },
    {
      "cell_type": "markdown",
      "metadata": {
        "id": "gnuZm4DJf46i"
      },
      "source": [
        "In this section, we will learn about another key concept of programming - Comments.\n",
        "\n",
        "Programmers and Data Scientists use comments to explain what their code means. These comments are acually pieces of code that do not get translated by the computer. We will use them as helpful messages that we leave within our code.\n",
        "\n",
        "Comments are created by putthing a hash character(#) before the line we would like the computer to ignore. By doing that we would say that we have commented out that line.\n",
        "\n",
        "For example, in the cell below, the first line is the commented out line in the code. It explains what the following code means."
      ]
    },
    {
      "cell_type": "code",
      "metadata": {
        "id": "xJBU9EQoYcPt",
        "outputId": "af28e82f-7ba2-47b7-8567-4e698a6cef5b",
        "colab": {
          "base_uri": "https://localhost:8080/"
        }
      },
      "source": [
        "# Example 1\n",
        "# The code below will print out the statement \"I already love Python\".\n",
        "# Let's press the shortcut shift + return (enter button) at the same time\n",
        "# to run the code in this cell.\n",
        "#\n",
        "print ('I already love Python')"
      ],
      "execution_count": 6,
      "outputs": [
        {
          "output_type": "stream",
          "name": "stdout",
          "text": [
            "I already love Python\n"
          ]
        }
      ]
    },
    {
      "cell_type": "markdown",
      "metadata": {
        "id": "cXhURK-yvBfu"
      },
      "source": [
        "Good! Let's now comment out the code in the following cell and later run the code. By uncommenting we mean removing the last line # character before print."
      ]
    },
    {
      "cell_type": "code",
      "metadata": {
        "id": "ZQj19k6kvLpy",
        "outputId": "1ec42afa-366f-4966-d8d8-e8cd39e4df26",
        "colab": {
          "base_uri": "https://localhost:8080/"
        }
      },
      "source": [
        "# Example 2\n",
        "#\n",
        "print(\"My home is Kenya, all wild and wonderful!\")"
      ],
      "execution_count": 7,
      "outputs": [
        {
          "output_type": "stream",
          "name": "stdout",
          "text": [
            "My home is Kenya, all wild and wonderful!\n"
          ]
        }
      ]
    },
    {
      "cell_type": "markdown",
      "metadata": {
        "id": "ai0VXezYyCVl"
      },
      "source": [
        "If we'd like to make multiline comments, we can also use the # character as shown below:"
      ]
    },
    {
      "cell_type": "code",
      "metadata": {
        "id": "9Ap2sfRVyA8s",
        "outputId": "8c6b1b3d-cdf5-4c4d-fd99-955a8cda1e23",
        "colab": {
          "base_uri": "https://localhost:8080/"
        }
      },
      "source": [
        "# Example 3\n",
        "# The following line of code prints out\n",
        "# \"I have just began my Data science journey\" in the console\n",
        "#\n",
        "print(\"I have just began my data science journey\")"
      ],
      "execution_count": 8,
      "outputs": [
        {
          "output_type": "stream",
          "name": "stdout",
          "text": [
            "I have just began my data science journey\n"
          ]
        }
      ]
    },
    {
      "cell_type": "markdown",
      "metadata": {
        "id": "9g9cO9kTj7eS"
      },
      "source": [
        "### <font color = 'green'> 1.2 Challenges</font>"
      ]
    },
    {
      "cell_type": "code",
      "metadata": {
        "id": "X6FOU-U5j1_0",
        "outputId": "0c1a1dcb-5b4b-4d48-a60f-29b3a8239379",
        "colab": {
          "base_uri": "https://localhost:8080/"
        }
      },
      "source": [
        "# Challenge 1:\n",
        "# We now add multiline comments that explain what happens to a line\n",
        "# that prints out the name of your home town below\n",
        "#\n",
        "\n",
        "\"\"\"\n",
        "The following line of code uses print function\n",
        "to output the name of my hometown\n",
        "the print function displays text inside quotation marks\n",
        "\"\"\"\n",
        "print(\"Kiambu\")"
      ],
      "execution_count": 9,
      "outputs": [
        {
          "output_type": "stream",
          "name": "stdout",
          "text": [
            "Kiambu\n"
          ]
        }
      ]
    },
    {
      "cell_type": "code",
      "metadata": {
        "id": "TUlfErrLj31q"
      },
      "source": [
        "# Challenge 2:\n",
        "# Add comments to the program below. Add comments in two lines.\n",
        "#\n",
        "\n",
        "#This line assigns string \"Hello Brenda!\" to variable 'a'\n",
        "a = \"Hello Brenda!\"\n",
        "\n",
        "#This line prints the value stored in variable 'a'\n",
        "print(a)"
      ],
      "execution_count": null,
      "outputs": []
    },
    {
      "cell_type": "code",
      "metadata": {
        "id": "RsAK7Vfmj6Pi",
        "outputId": "1e993c83-0755-4a97-a1eb-fdfcd53ae063",
        "colab": {
          "base_uri": "https://localhost:8080/"
        }
      },
      "source": [
        "# Challenge 3:\n",
        "# Run the code below then try to figure out what happens.\n",
        "# Then from your understanding, provide a documentation to the program\n",
        "# NB: By documentation we mean add comments to the program\n",
        "# to help the reader to understand the program.\n",
        "# Hint: Explain each line of the program.\n",
        "#\n",
        "\n",
        "#Defining a list of months\n",
        "months = ['January', 'February', 'March', 'April', 'May', 'June', 'July','August','September','October', 'November','December']\n",
        "\n",
        "#Define a function called 'ShowCalender' that takes list as a parameter\n",
        "def showCalender(months):\n",
        "\n",
        "#Inside the function it loops through each month in the list and print it out\n",
        "    for month in months:\n",
        "        print(month)\n",
        "\n",
        "#ShowCalender function is called, passing list months as an argument\n",
        "showCalender(months)"
      ],
      "execution_count": 10,
      "outputs": [
        {
          "output_type": "stream",
          "name": "stdout",
          "text": [
            "January\n",
            "February\n",
            "March\n",
            "April\n",
            "May\n",
            "June\n",
            "July\n",
            "August\n",
            "September\n",
            "October\n",
            "November\n",
            "December\n"
          ]
        }
      ]
    },
    {
      "cell_type": "markdown",
      "metadata": {
        "id": "enegx82E43R0"
      },
      "source": [
        "## 1.3 Variables"
      ]
    },
    {
      "cell_type": "markdown",
      "metadata": {
        "id": "BkeWKmaiVZrw"
      },
      "source": [
        "The next thing we will learn is a variable. This is simply a container that we can use to store a value. This value can be a number, a character, a string (which is just a set of characters), a list (we will learn this, a dictionary - we will also learn this), etc."
      ]
    },
    {
      "cell_type": "markdown",
      "metadata": {
        "id": "MNf-A-Vu_aPR"
      },
      "source": [
        "In python, we would create a variable and store a value at the same time, just as shown in the following example."
      ]
    },
    {
      "cell_type": "code",
      "metadata": {
        "id": "dnmsWMx8_SUA"
      },
      "source": [
        "# Example 1\n",
        "# We store the value 10 in a variable p. In programming we say that \"we are assigning the value 10 to p\"\n",
        "# Running this cell won't output anything. Why? You can discuss this with your peer.\n",
        "# If you haven't figure it out, then go on to the next example and you'll know why\n",
        "#\n",
        "p = 10"
      ],
      "execution_count": null,
      "outputs": []
    },
    {
      "cell_type": "code",
      "metadata": {
        "id": "4jZQErLZVd_y",
        "outputId": "f7a9357c-22cf-4aee-a7ff-6a94151aea6b",
        "colab": {
          "base_uri": "https://localhost:8080/"
        }
      },
      "source": [
        "# Example 2\n",
        "# So as to create a variable we use the equals sign; =, like in the example below.\n",
        "# This sign is usually regarded to what is called an assignment operator.\n",
        "# How do we say what is happening to 5 and x below? We've learned this in\n",
        "# the previous example.\n",
        "#\n",
        "x = 5\n",
        "\n",
        "# Because we have assigned the value 5 to x,\n",
        "# we now need to print out and see whether x has that value.\n",
        "# Lets print out x below this line using the print() function below\n",
        "#\n",
        "print(x)"
      ],
      "execution_count": 11,
      "outputs": [
        {
          "output_type": "stream",
          "name": "stdout",
          "text": [
            "5\n"
          ]
        }
      ]
    },
    {
      "cell_type": "code",
      "metadata": {
        "id": "zitN-ocgVqsF",
        "outputId": "a35e4d63-e6e2-41d6-802e-84fc31afe753",
        "colab": {
          "base_uri": "https://localhost:8080/"
        }
      },
      "source": [
        "# Example 3\n",
        "# Nice, Work now on this challenge:\n",
        "# Create a savings variable with the value 1000\n",
        "#\n",
        "savings = 1000\n",
        "# Then print this savings variable below this line;\n",
        "print(savings)"
      ],
      "execution_count": 12,
      "outputs": [
        {
          "output_type": "stream",
          "name": "stdout",
          "text": [
            "1000\n"
          ]
        }
      ]
    },
    {
      "cell_type": "code",
      "metadata": {
        "id": "Mjj8BXlNYcPx",
        "outputId": "38cd19af-f435-4537-8ee1-130b8a728f55",
        "colab": {
          "base_uri": "https://localhost:8080/"
        }
      },
      "source": [
        "# Example 4\n",
        "# Now uncomment the below lines to print a,\n",
        "# then later uncomment b = 5 and later uncomment print(b)\n",
        "# Do note what happens\n",
        "#\n",
        "\n",
        "a = 10\n",
        "\n",
        "print(a)\n",
        "\n",
        "b = 5\n",
        "\n",
        "print(b)"
      ],
      "execution_count": 15,
      "outputs": [
        {
          "output_type": "stream",
          "name": "stdout",
          "text": [
            "10\n",
            "5\n"
          ]
        }
      ]
    },
    {
      "cell_type": "markdown",
      "metadata": {
        "id": "O8SLfCskkHv4"
      },
      "source": [
        "### <font color = 'green'>  1.3 Challenges </font>"
      ]
    },
    {
      "cell_type": "code",
      "metadata": {
        "id": "313rKbkAkKcR"
      },
      "source": [
        "# Challenge 1\n",
        "# Assign the book Harry Potter and the Deathly Hollows to the variable author\n",
        "#\n",
        "author = \"Harry Potter and Deathly Hollows\"\n"
      ],
      "execution_count": 19,
      "outputs": []
    },
    {
      "cell_type": "code",
      "metadata": {
        "id": "3PN6Ef_gkK39"
      },
      "source": [
        "# Challenge 2\n",
        "# Fix the following code the run the cell\n",
        "#\n",
        "einstein = \"7_quote\"\n"
      ],
      "execution_count": null,
      "outputs": []
    },
    {
      "cell_type": "code",
      "metadata": {
        "id": "IUdjEiyAkKpE"
      },
      "source": [
        "# Challenge 3\n",
        "# Fix the following code the run the cell\n",
        "#\n",
        "second_number = 400\n"
      ],
      "execution_count": null,
      "outputs": []
    },
    {
      "cell_type": "markdown",
      "metadata": {
        "id": "UgmQhU5qeG8x"
      },
      "source": [
        "## 1.4 Operators"
      ]
    },
    {
      "cell_type": "code",
      "metadata": {
        "id": "Rz2NNvZmYcP0",
        "outputId": "34f271eb-4f3a-42c7-b7a1-8e9406044f07",
        "colab": {
          "base_uri": "https://localhost:8080/"
        }
      },
      "source": [
        "# Example 1\n",
        "# In this section, we are going to use the variable a and b to perform\n",
        "# some arithmetic operations. Variable values or the variables from the above cell are retained\n",
        "# and can be used with the values that they were assigned to.\n",
        "# We will learn more about this when we run the lines below.\n",
        "# Let's run this cell once then\n",
        "# Uncomment the lines below to see the effect for multiplication, division and substraction\n",
        "#\n",
        "\n",
        "print(a + b)\n",
        "\n",
        "print(a * b)\n",
        "\n",
        "print(a / b)\n",
        "\n",
        "print(a - b)"
      ],
      "execution_count": 20,
      "outputs": [
        {
          "output_type": "stream",
          "name": "stdout",
          "text": [
            "15\n",
            "50\n",
            "2.0\n",
            "5\n"
          ]
        }
      ]
    },
    {
      "cell_type": "code",
      "metadata": {
        "id": "w7UUv925YcP2",
        "outputId": "34efece8-ace2-4575-b6c0-942a21b9502f",
        "colab": {
          "base_uri": "https://localhost:8080/"
        }
      },
      "source": [
        "# Example 2\n",
        "# What would happen if we assigned the value of a + b to a.\n",
        "# Then try to come up with the answer in your mind\n",
        "# before uncommenting the line below;\n",
        "#\n",
        "\n",
        "a = a + b\n",
        "\n",
        "print(a)"
      ],
      "execution_count": 22,
      "outputs": [
        {
          "output_type": "stream",
          "name": "stdout",
          "text": [
            "15\n"
          ]
        }
      ]
    },
    {
      "cell_type": "code",
      "metadata": {
        "id": "yVolQ1lCYcP5",
        "outputId": "5807f135-5ee3-45d9-e868-f3b7046b1a34",
        "colab": {
          "base_uri": "https://localhost:8080/"
        }
      },
      "source": [
        "# Example 3\n",
        "# Nice. Now we will introduce a rather unfamiliar operator that we normally use in python.\n",
        "# This operator is called the increment operator\n",
        "#\n",
        "\n",
        "a += b\n",
        "\n",
        "print(a)\n",
        "\n",
        "# Try using the decrement operator below. The increment operator is -=\n",
        "a -= b\n",
        "print(a)\n"
      ],
      "execution_count": 29,
      "outputs": [
        {
          "output_type": "stream",
          "name": "stdout",
          "text": [
            "30\n",
            "25\n"
          ]
        }
      ]
    },
    {
      "cell_type": "markdown",
      "metadata": {
        "id": "VoM4VEWeTxue"
      },
      "source": [
        "As you have seen, python is perfectly suited to do basic calculations. Apart from addition, subtraction, multiplication and division, there is also support for more advanced operations such as:\n",
        "\n",
        "\n",
        "*   Exponentiation:  This operator raises the number to its left to the power of the number to its right. For example 4**2 will give 16.\n",
        "*   Modulo: %. This operator returns the remainder of the division of the number to the left by the number on its right. For example 18 % 7 equals 4."
      ]
    },
    {
      "cell_type": "code",
      "metadata": {
        "id": "s6fPLiHaTJs7",
        "outputId": "1ff20061-ca90-4139-ae30-5acf8d33b6d0",
        "colab": {
          "base_uri": "https://localhost:8080/"
        }
      },
      "source": [
        "# Example 4\n",
        "# Lets uncomment the lines below to Exponentiation and then\n",
        "#\n",
        "\n",
        "print(18 % 7)\n",
        "print(4 ** 2)"
      ],
      "execution_count": 30,
      "outputs": [
        {
          "output_type": "stream",
          "name": "stdout",
          "text": [
            "4\n",
            "16\n"
          ]
        }
      ]
    },
    {
      "cell_type": "markdown",
      "metadata": {
        "id": "8MEIfFSclWvn"
      },
      "source": [
        "### <font color = 'green'> 1.4 Challenges </font>"
      ]
    },
    {
      "cell_type": "code",
      "metadata": {
        "id": "iILThnq6laDQ",
        "outputId": "987a18e0-c89b-457a-9a7b-f29f3512fd3d",
        "colab": {
          "base_uri": "https://localhost:8080/"
        }
      },
      "source": [
        "# Challenge 1\n",
        "# Three persons have three notes of Ksh.50, Ksh.100 and Ksh.500.\n",
        "# Create three variables; person 1, person 2 and person 3 then\n",
        "# Find out the average of their money and display it below.\n",
        "#\n",
        "person1, person2, person3, = 50, 100, 500\n",
        "print(\"The average amount of money is ksh\",(person1+person2+person3)/3)"
      ],
      "execution_count": 36,
      "outputs": [
        {
          "output_type": "stream",
          "name": "stdout",
          "text": [
            "The average amount of money is ksh 216.66666666666666\n"
          ]
        }
      ]
    },
    {
      "cell_type": "code",
      "metadata": {
        "id": "P9fCjPn9la7V",
        "outputId": "3aab1544-95fb-41fb-9eac-8a37e055efaf",
        "colab": {
          "base_uri": "https://localhost:8080/"
        }
      },
      "source": [
        "# Challenge 2\n",
        "# An online shop sells designer jeans and t-shirts.\n",
        "# Each jeans costs Ksh. 4500 and t-shirt costs Ksh. 2500.\n",
        "# Calculate the cost below if you were to buy 3 pairs of jeans and 6 t-shirts\n",
        "# using variables and operators.\n",
        "#\n",
        "jeans, t_shirt = 4500, 2500\n",
        "cost = (jeans * 3 ) + (t_shirt * 6)\n",
        "print(\"The total cost is ksh\",cost)"
      ],
      "execution_count": 40,
      "outputs": [
        {
          "output_type": "stream",
          "name": "stdout",
          "text": [
            "The total cost is ksh 28500\n"
          ]
        }
      ]
    },
    {
      "cell_type": "code",
      "metadata": {
        "id": "NIDidtkllawY",
        "outputId": "1476dc02-85bc-4fd3-b221-64da60b04b7b",
        "colab": {
          "base_uri": "https://localhost:8080/"
        }
      },
      "source": [
        "# Challenge 3\n",
        "# We have Ksh 1000, which you invest with a 10% return each year.\n",
        "# After one year, it's 1000 × 1.1 = 1100 shillings, and after two years\n",
        "# it's 1000 × 1.1 × 1.1 = 121.\n",
        "# Now, write code below to calculate how much money\n",
        "# you would end up with after 7 years.\n",
        "# How much is your Ksh. 1000 worth after 15 years?\n",
        "# ----------\n",
        "# Hint: Instead of calculating with the actual values, you can use variables instead.\n",
        "# The savings variable you've created in the previous exercise represents the Ksh 1000 you started with.\n",
        "# It's up to you to create a new variable to represent 1.1 and then redo the calculations!\n",
        "# ----------\n",
        "\n",
        "# We can recreate the savings variable that we will use below\n",
        "#\n",
        "savings = 1000\n",
        "\n",
        "# and create a growth_multiplier variable that is equal to 1.1.\n",
        "growth_multiplier = 1.1\n",
        "\n",
        "# Then create a result variable and equal it to the amount of money you saved after 7 years.\n",
        "result  = savings * (growth_multiplier**7)\n",
        "\n",
        "# Then print out the value of result below\n",
        "print(result)\n"
      ],
      "execution_count": 41,
      "outputs": [
        {
          "output_type": "stream",
          "name": "stdout",
          "text": [
            "1948.7171000000012\n"
          ]
        }
      ]
    },
    {
      "cell_type": "markdown",
      "metadata": {
        "id": "wCNLWKgJeLJn"
      },
      "source": [
        "## 1.5 Input"
      ]
    },
    {
      "cell_type": "code",
      "metadata": {
        "id": "KFoVX3qxUVX5",
        "outputId": "0f1ae942-dd77-4580-dfce-789fce6057de",
        "colab": {
          "base_uri": "https://localhost:8080/"
        }
      },
      "source": [
        "# Example 1\n",
        "# The input() function allows for user input as shown\n",
        "#\n",
        "g = int(input(\"Enter a number: \"))\n",
        "\n",
        "print(g + 2)"
      ],
      "execution_count": 46,
      "outputs": [
        {
          "output_type": "stream",
          "name": "stdout",
          "text": [
            "Enter a number: 5\n",
            "7\n"
          ]
        }
      ]
    },
    {
      "cell_type": "code",
      "metadata": {
        "id": "1nq-JtqvXI3h",
        "outputId": "54f7cfb6-df0d-4c20-d543-750a51c7ab4c",
        "colab": {
          "base_uri": "https://localhost:8080/"
        }
      },
      "source": [
        "# Example 2\n",
        "# Lets get the sum of two numbers from a user's input\n",
        "#\n",
        "x = int(input('Enter the first number: '))\n",
        "y = int(input('Enter the second number: '))\n",
        "\n",
        "print(x + y)"
      ],
      "execution_count": 50,
      "outputs": [
        {
          "output_type": "stream",
          "name": "stdout",
          "text": [
            "Enter the first number: 5\n",
            "Enter the second number: 7\n",
            "12\n"
          ]
        }
      ]
    },
    {
      "cell_type": "code",
      "metadata": {
        "id": "_2nBPR_o3bgY",
        "outputId": "96a6cbca-c7a9-4ef4-a19b-16ce6950cfac",
        "colab": {
          "base_uri": "https://localhost:8080/"
        }
      },
      "source": [
        "# Example 3\n",
        "# Let's get the name and age of the user\n",
        "#\n",
        "\n",
        "# Prompting the user to tell us their name and displaying their name\n",
        "name = input(\"What's your name? \")\n",
        "print(\"Nice to meet you \" + name + \"!\")\n",
        "\n",
        "# Prompting the user to tell use their age\n",
        "age = input(\"Your age? \")\n",
        "\n",
        "# Displaying both their name and age\n",
        "# Hint: Try to remove str() and see what happens. We will learn more about datatype conversion later()\n",
        "#\n",
        "print(\"So, you are already \" + str(age) + \" years old, \" + name + \"!\")"
      ],
      "execution_count": 51,
      "outputs": [
        {
          "output_type": "stream",
          "name": "stdout",
          "text": [
            "What's your name? Dennis\n",
            "Nice to meet you Dennis!\n",
            "Your age? 28\n",
            "So, you are already 28 years old, Dennis!\n"
          ]
        }
      ]
    },
    {
      "cell_type": "markdown",
      "metadata": {
        "id": "eEu2bBRRlo1e"
      },
      "source": [
        "### <font color = 'green'>  1.5 Challenges </font>"
      ]
    },
    {
      "cell_type": "code",
      "metadata": {
        "id": "RmNOhWeWlyLb",
        "outputId": "32bb1cb3-7643-4e1e-80d2-7237a8556092",
        "colab": {
          "base_uri": "https://localhost:8080/"
        }
      },
      "source": [
        "# Challenge 1\n",
        "# Many people around the world think about their height in feet and inches\n",
        "# even here in Africa where many countries use the metric system.\n",
        "# Write a program reads the height in metres then converts it to\n",
        "# feet and inches. The program should display the equivalent\n",
        "# height in feet and height.\n",
        "# NB: You can look up the necessary conversion factors on the web.\n",
        "#\n",
        "\n",
        "# Conversion factor to convert meters to feet\n",
        "meters_to_feet = 3.28084\n",
        "# Conversion factor to convert fractional feet to inches\n",
        "feet_to_inches = 12\n",
        "# Read the height in meters from user input and convert to float\n",
        "height_meters = float(input('Enter height in meters: '))\n",
        "# Convert height from meters to feet\n",
        "height_feet = height_meters * meters_to_feet\n",
        "# Calculate and print height in feet and inches\n",
        "print(f'Height: {int(height_feet)} feet {int((height_feet % 1) * feet_to_inches)} inches')\n",
        "\n"
      ],
      "execution_count": 54,
      "outputs": [
        {
          "output_type": "stream",
          "name": "stdout",
          "text": [
            "Enter height in meters: 1.7\n",
            "Height: 5 feet 6 inches\n"
          ]
        }
      ]
    },
    {
      "cell_type": "code",
      "metadata": {
        "id": "EdIZZ53Ml4Jx",
        "outputId": "c2c822d7-7fdd-41ff-fbb1-6d6dcfa92816",
        "colab": {
          "base_uri": "https://localhost:8080/"
        }
      },
      "source": [
        "# Challenge 2\n",
        "# Given a certain column of data that has radius, a data scientist would like\n",
        "# to compute the volume the respective cylinder and save the result to a new column.\n",
        "# Thus, write a program that reads the radius of cylinder, along with its height\n",
        "# from the user to calculate the volume in the console.\n",
        "#\n",
        "\n",
        "# Import the math module to access the constant pi\n",
        "import math\n",
        "# Read the radius and height from the user\n",
        "radius = float(input('Enter the radius of the cylinder: '))\n",
        "height = float(input('Enter the height of the cylinder: '))\n",
        "# Calculate the volume of the cylinder\n",
        "volume = math.pi * (radius ** 2) * height\n",
        "# Display the volume\n",
        "print(f'The volume of the cylinder is {volume:.2f}')\n"
      ],
      "execution_count": 55,
      "outputs": [
        {
          "output_type": "stream",
          "name": "stdout",
          "text": [
            "Enter the radius of the cylinder: 7\n",
            "Enter the height of the cylinder: 5\n",
            "The volume of the cylinder is 769.69\n"
          ]
        }
      ]
    },
    {
      "cell_type": "code",
      "metadata": {
        "id": "EuzTUGQnl4tz",
        "outputId": "e31d0996-ee5b-46a3-d6d6-8fb7113fb2a3",
        "colab": {
          "base_uri": "https://localhost:8080/"
        }
      },
      "source": [
        "# Challenge 3\n",
        "# While paying for her parking fee of Ksh. 50 , Jane inserts a Note into\n",
        "# the paying machine and gets back her change.\n",
        "# Write a program that reads as input the note greater than Ksh. 200\n",
        "# and returns change in notes of 100 and 50.\n",
        "# Use the knowledge of variables to printing, comments, operators\n",
        "# and input to print the no of denominations given\n",
        "#\n",
        "# Read the amount of the note from the user\n",
        "note_amount = float(input('Enter the note amount (greater than Ksh. 200): '))\n",
        "\n",
        "# Ensure the note amount is greater than Ksh. 200\n",
        "if note_amount <= 200:\n",
        "    print('The note amount should be greater than Ksh. 200.')\n",
        "else:\n",
        "    # Calculate the change\n",
        "    change = note_amount - 50\n",
        "\n",
        "    # Calculate the number of 100 and 50 notes\n",
        "    num_100_notes = int(change // 100)  # Number of 100 notes\n",
        "    change %= 100  # Remaining change after 100 notes\n",
        "    num_50_notes = int(change // 50)   # Number of 50 notes\n",
        "\n",
        "    # Print the number of each note\n",
        "    print(f'Change: {num_100_notes} notes of Ksh. 100')\n",
        "    print(f'Change: {num_50_notes} notes of Ksh. 50')\n"
      ],
      "execution_count": 56,
      "outputs": [
        {
          "output_type": "stream",
          "name": "stdout",
          "text": [
            "Enter the note amount (greater than Ksh. 200): 700\n",
            "Change: 6 notes of Ksh. 100\n",
            "Change: 1 notes of Ksh. 50\n"
          ]
        }
      ]
    }
  ]
}